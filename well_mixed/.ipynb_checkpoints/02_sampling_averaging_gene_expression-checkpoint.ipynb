{
 "cells": [
  {
   "cell_type": "markdown",
   "metadata": {},
   "source": [
    "# Samlping and Computing Average with a Gene Expression Mechanism"
   ]
  },
  {
   "cell_type": "markdown",
   "metadata": {},
   "source": [
    "## Reference\n",
    "\n",
    "[1] Vlachos, D. \"CHEG841 Class Notes\" Department of Chemical Engineering, University of Delaware \n",
    "\n",
    "[2] [ Alexopoulos, K.; Wang, Y.; Vlachos, D. G. First-Principles Kinetic and Spectroscopic Insights into Single-Atom Catalysis. ACS Catal. 2019, 3 (100), 5002–5010.](https://pubs.acs.org/doi/10.1021/acscatal.9b00179)\n",
    "\n",
    "[3] [ Temel, B.; Meskine, H.; Reuter, K.; Scheffler, M.; Metiu, H. Does Phenomenological Kinetics Provide an Adequate Description of Heterogeneous Catalytic Reactions? J. Chem. Phys. 2007, 126 (20), 204711.](https://aip.scitation.org/doi/abs/10.1063/1.2741556)\n",
    "\n",
    "Date: 06-14-2019"
   ]
  },
  {
   "cell_type": "markdown",
   "metadata": {},
   "source": [
    "# Table of contents\n",
    "\n",
    "\n",
    "- [1. Introduction](#introduction)\n",
    "\n",
    "    \n",
    "- [2. General approaches](#generalapproaches)\n",
    "    \n",
    "    \n",
    "- [3. Case Study (a Gene Expression mechanism)](#case)\n",
    "\n",
    "    - [3.1 Gillespie's Algorithm](#gillespie)\n",
    "\n",
    "    - [3.2 Tau-leaping](#tauleaping)\n",
    "\n",
    "    - [3.3 Mean-Field ODEs](#ode)\n",
    "\n",
    "\n",
    "- [4. Sampling and Storing Outputs](#data)\n",
    "\n",
    "    - [4.1. Output Every Event](#event)\n",
    "    \n",
    "    - [4.2. Sample on Event](#events)\n",
    "    \n",
    "    - [4.3. Sample on Time](#time)\n",
    "\n",
    "    \n",
    "- [5. Computing Average](#mean)\n",
    "\n",
    "    - [5.1. Compute Average Populations](#mean_pop)\n",
    "    \n",
    "    - [5.2. Compute Average Rates](#rates)\n",
    "    \n",
    "      &nbsp;&nbsp;&nbsp;&nbsp;  [5.2.1 The Time Average Method](#rates_time)\n",
    "      \n",
    "      &nbsp;&nbsp;&nbsp;&nbsp;  [5.2.2 Events-based Method](#rates_event)\n",
    "    \n",
    "    \n",
    "- [6. kMC vs Mean-field](#vs)\n",
    "\n"
   ]
  },
  {
   "cell_type": "markdown",
   "metadata": {},
   "source": [
    "# 1. Introduction <a name=\"introduction\"></a>\n",
    "\n",
    "Goal: to track the number of molecules of each type as a function of reaction time and compute the average of kMC trajectories \n",
    "\n",
    "Assumption: a well-mixed system, where moleculses of each type are spread uniformaly throughout the spatial domain\n",
    "    \n",
    "# 2. General approaches<a name=\"generalapproaches\"></a>   \n",
    "\n",
    "- __Kinetic Monte Carlo (kMC)__ , solving chemical matser equations through \n",
    "    - Gillespie's algorithm\n",
    "    - Tau-leaping methods\n",
    "- Reaction Rate equations through the __mean-field ODEs__"
   ]
  },
  {
   "cell_type": "markdown",
   "metadata": {},
   "source": [
    "# 3. Case Study (a Gene Expression mechanism)<a name=\"case\"></a>   \n",
    "\n",
    "The system involves 2 species (the DNA population is not included):\n",
    "- mRNA, $r$\n",
    "- Protein, $p$\n",
    "\n",
    "![flowchart](gene_expression.PNG)\n",
    " \n",
    " \n",
    "The mechanism can be written as\n",
    "1. Transcription of $r$: DNA $\\xrightarrow{\\text{kr}} r$\n",
    "2. Transcription of $p$: $r \\xrightarrow{\\text{kp}} r + p$\n",
    "3. Decay of $r$: $r \\xrightarrow{\\text{$\\gamma_{r}$}}$\n",
    "4. Decay of $p$: $p \\xrightarrow{\\text{$\\gamma_{p}$}}$\n",
    "\n",
    "Where c1, c2, c3 and c4 are rate constants.\n",
    "\n",
    "\n",
    "The concentrations of mRNA (r) and protein (p) are given by the following ODEs:\n",
    "\n",
    "$\\frac{dr}{dt} = k_{r} - \\gamma_{r} r $\n",
    "\n",
    "$\\frac{dp}{dt} = k_{p}r - \\gamma_{p} p $\n",
    "\n",
    "The steady state solution is,\n",
    "\n",
    "$r_{ss} = k_{r}/\\gamma_{r}$\n",
    "\n",
    "$p_{ss} = k_{p}k_{r}/\\gamma_{p}\\gamma_{r} $"
   ]
  },
  {
   "cell_type": "code",
   "execution_count": 1,
   "metadata": {},
   "outputs": [],
   "source": [
    "# Imports necessary libraries\n",
    "import time\n",
    "import numpy as np\n",
    "import matplotlib.pyplot as plt\n",
    "import pandas as pd\n",
    "import scipy.integrate as integrate\n",
    "from scipy.integrate import odeint, ode\n",
    "\n",
    "# Set random seed\n",
    "np.random.seed(0)"
   ]
  },
  {
   "cell_type": "markdown",
   "metadata": {},
   "source": [
    "## 3.1 Gillespie's Algorithm <a name=\"gillespie\"></a>  "
   ]
  },
  {
   "cell_type": "code",
   "execution_count": 47,
   "metadata": {},
   "outputs": [],
   "source": [
    "# Define a Gillespie's algorithm function starting from t = 0\n",
    "\n",
    "def gill_alg(pop, tfinal, c):\n",
    "    \n",
    "    t = 0\n",
    "    \n",
    "    # Stoichiometric matrix\n",
    "    V = np.array([(1, 0,-1,0), (0,1,0,-1)])\n",
    "    \n",
    "    # Create an array to store time, # of mRNA-r and # of protein-p, event index j\n",
    "    data = np.array([(0, pop[0], pop[1], float('NaN'))]) # at t = 0, no past event is fired\n",
    "\n",
    "    while t < tfinal:\n",
    "        a=np.zeros((4,1)) # Probabilities of reactions\n",
    "        a[0] = c[0];\n",
    "        a[1] = c[1]*pop[0];\n",
    "        a[2] = c[2]*pop[0];\n",
    "        a[3] = c[3]*pop[1];\n",
    "        asum = np.sum(a)\n",
    "\n",
    "        # Uses random numbers to determine time step and reaction\n",
    "        j = np.min(np.nonzero(np.random.rand()<np.cumsum(a/asum)))\n",
    "        tau = np.log(1/np.random.rand())/asum\n",
    "        \n",
    "        pop = pop + V[:,j] # Updates populations\n",
    "        t = t + tau\n",
    "\n",
    "        data = np.append(data, [(t, pop[0], pop[1], j)], axis = 0)\n",
    "        \n",
    "    return data"
   ]
  },
  {
   "cell_type": "markdown",
   "metadata": {},
   "source": [
    "## Scenario 1\n",
    "\n",
    "$ k_{r} = 0.01 $\n",
    "\n",
    "$ k_{p} = 1 $ \n",
    "\n",
    "$ \\gamma_{r} = 0.1 $\n",
    "\n",
    "$ \\gamma_{p} = 0.002 $ \n",
    "\n",
    "Hence, $r_{ss} = 0.1$ and $p_{ss} = 50$"
   ]
  },
  {
   "cell_type": "code",
   "execution_count": 48,
   "metadata": {},
   "outputs": [
    {
     "name": "stdout",
     "output_type": "stream",
     "text": [
      "Starting kMC simulations...\n",
      "The simulation takes 0.4221 s\n"
     ]
    }
   ],
   "source": [
    "# Using Gillespie's Algorithm to model a system with nonlinear dynamic behavior, \n",
    "# including oscillations and bistability in cubic autocatalysis\n",
    "\n",
    "Y = np.zeros(2) # Start with populations of 0\n",
    "\n",
    "# All first order reaction\n",
    "# Continum rate constants k = molecular rate constants c\n",
    "c=np.zeros(4)\n",
    "c[0] = 0.01 #kr\n",
    "c[1] = 1 #kp\n",
    "c[2] = 0.1 #gamma r\n",
    "c[3] = 0.002 #gamma p  \n",
    "\n",
    "tfinal = 28800\n",
    "\n",
    "start = time.time()\n",
    "print('Starting kMC simulations...')\n",
    "\n",
    "# Run the simulation\n",
    "val_ga_1 = gill_alg(Y, tfinal, c)\n",
    "\n",
    "end = time.time()\n",
    "print('The simulation takes {0:.4f} s'.format(end-start))"
   ]
  },
  {
   "cell_type": "code",
   "execution_count": 49,
   "metadata": {},
   "outputs": [
    {
     "data": {
      "image/png": "[encoded data removed]",
      "text/plain": [
       "<Figure size 432x288 with 1 Axes>"
      ]
     },
     "metadata": {
      "needs_background": "light"
     },
     "output_type": "display_data"
    },
    {
     "data": {
      "image/png": "[encoded data removed]",
      "text/plain": [
       "<Figure size 432x288 with 1 Axes>"
      ]
     },
     "metadata": {
      "needs_background": "light"
     },
     "output_type": "display_data"
    }
   ],
   "source": [
    "fig = plt.figure()\n",
    "ax = fig.add_subplot(111)\n",
    "ax.plot(val_ga_1[:,0]/3600,val_ga_1[:,1])\n",
    "ax.set_xlabel('Time (hr)')\n",
    "ax.set_ylabel('mRNA');\n",
    "\n",
    "fig = plt.figure()\n",
    "ax = fig.add_subplot(111)\n",
    "ax.plot(val_ga_1[:,0]/3600,val_ga_1[:,2])\n",
    "ax.set_xlabel('Time (hr)')\n",
    "ax.set_ylabel('Proteins');"
   ]
  },
  {
   "cell_type": "markdown",
   "metadata": {},
   "source": [
    "## Scenario 2\n",
    "\n",
    "$ k_{r} = 0.1 $\n",
    "\n",
    "$ k_{p} = 0.1 $ \n",
    "\n",
    "$ \\gamma_{r} = 0.1 $\n",
    "\n",
    "$ \\gamma_{p} = 0.002 $ \n",
    "\n",
    "Hence, $r_{ss} = 1$ and $p_{ss} = 50$"
   ]
  },
  {
   "cell_type": "code",
   "execution_count": 37,
   "metadata": {},
   "outputs": [
    {
     "name": "stdout",
     "output_type": "stream",
     "text": [
      "Starting kMC simulations...\n",
      "The simulation takes 6.4287 s\n"
     ]
    }
   ],
   "source": [
    "Y = np.zeros(2)\n",
    "\n",
    "c=np.zeros(4)\n",
    "c[0] = 0.1 #kr\n",
    "c[1] = 0.1 #kp\n",
    "c[2] = 0.1 #yr\n",
    "c[3] = 0.002 #yp  \n",
    "\n",
    "tfinal = 28800\n",
    "\n",
    "start = time.time()\n",
    "print('Starting kMC simulations...')\n",
    "\n",
    "# Run the simulation\n",
    "val_ga_2 = gill_alg(Y, tfinal, c)\n",
    "\n",
    "end = time.time()\n",
    "print('The simulation takes {0:.4f} s'.format(end-start))"
   ]
  },
  {
   "cell_type": "code",
   "execution_count": 6,
   "metadata": {},
   "outputs": [
    {
     "data": {
      "image/png": "[encoded data removed]",
      "text/plain": [
       "<Figure size 432x288 with 1 Axes>"
      ]
     },
     "metadata": {
      "needs_background": "light"
     },
     "output_type": "display_data"
    },
    {
     "data": {
      "image/png": "[encoded data removed]",
      "text/plain": [
       "<Figure size 432x288 with 1 Axes>"
      ]
     },
     "metadata": {
      "needs_background": "light"
     },
     "output_type": "display_data"
    }
   ],
   "source": [
    "fig = plt.figure()\n",
    "ax = fig.add_subplot(111)\n",
    "ax.plot(val_ga_2[:,0]/3600,val_ga_2[:,1])\n",
    "ax.set_xlabel('Time')\n",
    "ax.set_ylabel('mRNA');\n",
    "\n",
    "fig = plt.figure()\n",
    "ax = fig.add_subplot(111)\n",
    "ax.plot(val_ga_2[:,0]/3600,val_ga_2[:,2])\n",
    "ax.set_xlabel('Time')\n",
    "ax.set_ylabel('Proteins');"
   ]
  },
  {
   "cell_type": "markdown",
   "metadata": {},
   "source": [
    "## 3.2 Tau-leaping<a name=\"tau\"></a>  "
   ]
  },
  {
   "cell_type": "code",
   "execution_count": 7,
   "metadata": {},
   "outputs": [],
   "source": [
    "# Define a tau-leaping function starting from t = 0\n",
    "\n",
    "def tau_leap(pop, c, tfinal, tau):\n",
    "    \n",
    "    # Create an array to store time, # of mRNA-r and # of protein-p\n",
    "    data = np.array([(0, pop[0], pop[1])])\n",
    "    \n",
    "    V = np.array([(1, 0,-1,0), (0,1,0,-1)]) # Matrix of reaction vectors    \n",
    "    \n",
    "    # Updates concentrations over timeframes until tfinal is reached\n",
    "    for k in range(round(tfinal/tau)):\n",
    "        a=np.zeros((4,1)) # Probabilities of reactions\n",
    "        a[0] = c[0];\n",
    "        a[1] = c[1]*pop[0];\n",
    "        a[2] = c[2]*pop[0];\n",
    "        a[3] = c[3]*pop[1];\n",
    "\n",
    "        # Uses normally distributed random numbers to determine extents if reaction\n",
    "        d=np.zeros((4,1))\n",
    "        d[0] = tau*a[0] + np.sqrt(abs(tau*a[0]))*np.random.randn()\n",
    "        d[1] = tau*a[1] + np.sqrt(abs(tau*a[1]))*np.random.randn()\n",
    "        d[2] = tau*a[2] + np.sqrt(abs(tau*a[2]))*np.random.randn()\n",
    "        d[3] = tau*a[3] + np.sqrt(abs(tau*a[3]))*np.random.randn()\n",
    "\n",
    "        # Updates populations\n",
    "        pop = pop + d[0]*V[:,0] + d[1]*V[:,1] + d[2]*V[:,2] + d[3]*V[:,3]\n",
    "        np.around(pop,0)\n",
    "        if pop[0] < 0:\n",
    "            pop[0] = 0\n",
    "        if pop[1] < 0:\n",
    "            pop[1] = 0\n",
    "        data = np.append(data, [(k*tau, pop[0], pop[1])], axis = 0)\n",
    " \n",
    "    return data"
   ]
  },
  {
   "cell_type": "markdown",
   "metadata": {},
   "source": [
    "## Scenario 1\n",
    "\n",
    "$ k_{r} = 0.01 $\n",
    "\n",
    "$ k_{p} = 1 $ \n",
    "\n",
    "$ \\gamma_{r} = 0.1 $\n",
    "\n",
    "$ \\gamma_{p} = 0.002 $ \n",
    "\n",
    "The steady state populations are, $r_{ss} = 0.1$ and $p_{ss} = 50$"
   ]
  },
  {
   "cell_type": "code",
   "execution_count": 8,
   "metadata": {
    "scrolled": true
   },
   "outputs": [
    {
     "name": "stdout",
     "output_type": "stream",
     "text": [
      "Starting kMC simulations...\n",
      "The simulation takes 0.1451 s\n"
     ]
    }
   ],
   "source": [
    "V = np.array([(1, 0,-1,0), (0,1,0,-1)]) # Matrix of reaction vectors\n",
    "\n",
    "Y = np.zeros(2) #Populations of molecules\n",
    "\n",
    "c=np.zeros(4) #Reaction coefficients\n",
    "c[0] = 0.01 #kr\n",
    "c[1] = 1 #kp\n",
    "c[2] = 0.1 #yr\n",
    "c[3] = 0.002 #yp\n",
    "\n",
    "tfinal = 28800 #time related variables\n",
    "# set \"small enough\" tau\n",
    "tau = tfinal/1000 #s\n",
    "\n",
    "start = time.time()\n",
    "print('Starting kMC simulations...')\n",
    "\n",
    "# Run the simulation\n",
    "val_tl_1 = tau_leap(Y, c, tfinal, tau)\n",
    "\n",
    "end = time.time()\n",
    "print('The simulation takes {0:.4f} s'.format(end-start))"
   ]
  },
  {
   "cell_type": "code",
   "execution_count": 9,
   "metadata": {
    "scrolled": false
   },
   "outputs": [
    {
     "data": {
      "image/png": "[encoded data removed]",
      "text/plain": [
       "<Figure size 432x288 with 1 Axes>"
      ]
     },
     "metadata": {
      "needs_background": "light"
     },
     "output_type": "display_data"
    },
    {
     "data": {
      "image/png": "[encoded data removed]",
      "text/plain": [
       "<Figure size 432x288 with 1 Axes>"
      ]
     },
     "metadata": {
      "needs_background": "light"
     },
     "output_type": "display_data"
    }
   ],
   "source": [
    "fig = plt.figure()\n",
    "ax = fig.add_subplot(111)\n",
    "ax.plot(val_tl_1[:,0]/3600,val_tl_1[:,1])\n",
    "ax.set_xlabel('Time')\n",
    "ax.set_ylabel('mRNA');\n",
    "\n",
    "fig = plt.figure()\n",
    "ax = fig.add_subplot(111)\n",
    "ax.plot(val_tl_1[:,0]/3600,val_tl_1[:,2])\n",
    "ax.set_xlabel('Time')\n",
    "ax.set_ylabel('Proteins');"
   ]
  },
  {
   "cell_type": "markdown",
   "metadata": {},
   "source": [
    "## Scenario 2\n",
    "\n",
    "$ k_{r} = 0.1 $\n",
    "\n",
    "$ k_{p} = 0.1 $ \n",
    "\n",
    "$ \\gamma_{r} = 0.1 $\n",
    "\n",
    "$ \\gamma_{p} = 0.002 $ \n",
    "\n",
    "The steady state populations are, $r_{ss} = 1$ and $p_{ss} = 50$"
   ]
  },
  {
   "cell_type": "code",
   "execution_count": 10,
   "metadata": {},
   "outputs": [
    {
     "name": "stdout",
     "output_type": "stream",
     "text": [
      "Starting kMC simulations...\n",
      "The simulation takes 0.1000 s\n"
     ]
    }
   ],
   "source": [
    "# With different reaction coefficients\n",
    "\n",
    "Y = np.zeros(2) #Populations of molecules\n",
    "\n",
    "c=np.zeros(4) #Reaction coefficients\n",
    "c[0] = 0.1 #kr\n",
    "c[1] = 0.1 #kp\n",
    "c[2] = 0.1 #yr\n",
    "c[3] = 0.002 #yp\n",
    "\n",
    "tfinal = 28800 #time related variables\n",
    "tau = tfinal/1000\n",
    "\n",
    "start = time.time()\n",
    "print('Starting kMC simulations...')\n",
    "\n",
    "# Run the simulation\n",
    "val_tl_2 = tau_leap(Y, c, tfinal, tau)\n",
    "\n",
    "end = time.time()\n",
    "print('The simulation takes {0:.4f} s'.format(end-start))"
   ]
  },
  {
   "cell_type": "code",
   "execution_count": 11,
   "metadata": {},
   "outputs": [
    {
     "data": {
      "image/png": "[encoded data removed]",
      "text/plain": [
       "<Figure size 432x288 with 1 Axes>"
      ]
     },
     "metadata": {
      "needs_background": "light"
     },
     "output_type": "display_data"
    },
    {
     "data": {
      "image/png": "[encoded data removed]",
      "text/plain": [
       "<Figure size 432x288 with 1 Axes>"
      ]
     },
     "metadata": {
      "needs_background": "light"
     },
     "output_type": "display_data"
    }
   ],
   "source": [
    "fig = plt.figure()\n",
    "ax = fig.add_subplot(111)\n",
    "ax.plot(val_tl_2[:,0]/3600,val_tl_2[:,1])\n",
    "ax.set_xlabel('Time')\n",
    "ax.set_ylabel('mRNA');\n",
    "\n",
    "fig = plt.figure()\n",
    "ax = fig.add_subplot(111)\n",
    "ax.plot(val_tl_2[:,0]/3600,val_tl_2[:,2])\n",
    "ax.set_xlabel('Time')\n",
    "ax.set_ylabel('Proteins');"
   ]
  },
  {
   "cell_type": "markdown",
   "metadata": {},
   "source": [
    "## 3.3 Mean-Field ODEs<a name=\"ode\"></a>  "
   ]
  },
  {
   "cell_type": "markdown",
   "metadata": {},
   "source": [
    "## Scenario 1<a name=\"ode_s1\"></a>  \n",
    "\n",
    "$ k_{r} = 0.01 $\n",
    "\n",
    "$ k_{p} = 1 $ \n",
    "\n",
    "$ \\gamma_{r} = 0.1 $\n",
    "\n",
    "$ \\gamma_{p} = 0.002 $ \n",
    "\n",
    "The steady state populations are, $r_{ss} = 0.1$ and $p_{ss} = 50$\n",
    "\n",
    "The ode solutions converges to the steady state solutions"
   ]
  },
  {
   "cell_type": "code",
   "execution_count": 12,
   "metadata": {},
   "outputs": [],
   "source": [
    "tspan = np.array([0,28800])\n",
    "\n",
    "y0 = np.zeros(2) #Initial concentrations\n",
    "\n",
    "kr = 0.01 # Reaction coefficients\n",
    "kp = 1\n",
    "yr = 0.1\n",
    "yp = 0.002\n",
    "\n",
    "r_ss_1 = kr/yr # analytical steady state solution\n",
    "p_ss_1 = kr/yr * kp/yp\n",
    "\n",
    "sol = []"
   ]
  },
  {
   "cell_type": "code",
   "execution_count": 13,
   "metadata": {},
   "outputs": [],
   "source": [
    "def kin(t,y): # ode of the reaction for each molecule\n",
    "    yprime = np.zeros(2);\n",
    "    yprime[0] = kr - yr*y[0]\n",
    "    yprime[1] = kp*y[0] - yp*y[1]\n",
    "    return yprime"
   ]
  },
  {
   "cell_type": "code",
   "execution_count": 14,
   "metadata": {},
   "outputs": [
    {
     "name": "stdout",
     "output_type": "stream",
     "text": [
      "Solving odes takes 0.1680 s\n"
     ]
    }
   ],
   "source": [
    "# Feeds information to vode, an ode15s equivalent\n",
    "solver2=ode(kin).set_integrator('vode',rtol=1e-5,method='bdf') \n",
    "solver2.set_initial_value(y0,tspan[0])\n",
    "t, yout= [tspan[0]],[y0]\n",
    "\n",
    "# the time step to output the results \n",
    "dt = 0.01 \n",
    "\n",
    "start = time.time()\n",
    "while solver2.successful() and solver2.t < tspan[1]:\n",
    "    solver2.integrate(solver2.t+dt, step=True)\n",
    "    t.append(solver2.t)\n",
    "    yout.append(solver2.y)\n",
    "\n",
    "end = time.time()\n",
    "print('Solving odes takes {0:.4f} s'.format(end-start))\n",
    "\n",
    "t_o1 = np.array(t)\n",
    "yout_o1 = np.array(yout)"
   ]
  },
  {
   "cell_type": "code",
   "execution_count": 15,
   "metadata": {},
   "outputs": [
    {
     "data": {
      "image/png": "[encoded data removed]",
      "text/plain": [
       "<Figure size 432x288 with 1 Axes>"
      ]
     },
     "metadata": {
      "needs_background": "light"
     },
     "output_type": "display_data"
    },
    {
     "data": {
      "image/png": "[encoded data removed]",
      "text/plain": [
       "<Figure size 432x288 with 1 Axes>"
      ]
     },
     "metadata": {
      "needs_background": "light"
     },
     "output_type": "display_data"
    }
   ],
   "source": [
    "fig = plt.figure() # Produces plots of the data\n",
    "ax = fig.add_subplot(111)\n",
    "ax.set_xlabel('Time')\n",
    "ax.set_ylabel('mRNA')\n",
    "ax.set_ylim(0,1.2)\n",
    "ax.plot(t_o1/3600,yout_o1[:,0]);\n",
    "\n",
    "fig = plt.figure()\n",
    "ax = fig.add_subplot(111)\n",
    "ax.set_xlabel('Time')\n",
    "ax.set_ylabel('Protein')\n",
    "ax.set_ylim(0,60)\n",
    "ax.plot(t_o1/3600,yout_o1[:,1]);"
   ]
  },
  {
   "cell_type": "markdown",
   "metadata": {},
   "source": [
    "## Scenario 2\n",
    "\n",
    "$ k_{r} = 0.1 $\n",
    "\n",
    "$ k_{p} = 0.1 $ \n",
    "\n",
    "$ \\gamma_{r} = 0.1 $\n",
    "\n",
    "$ \\gamma_{p} = 0.002 $ \n",
    "\n",
    "The steady state populations are, $r_{ss} = 1$ and $p_{ss} = 50$\n",
    "\n",
    "The ode solutions converges to the steady state solutions"
   ]
  },
  {
   "cell_type": "code",
   "execution_count": 16,
   "metadata": {},
   "outputs": [],
   "source": [
    "tspan = np.array([0,28800])\n",
    "\n",
    "y0 = np.zeros(2) #Initial concentrations\n",
    "\n",
    "kr = 0.1 # Reaction coefficients\n",
    "kp = 0.1\n",
    "yr = 0.1\n",
    "yp = 0.002\n",
    "\n",
    "r_ss_2= kr/yr # analytical steady state solution\n",
    "p_ss_2 = kr/yr * kp/yp"
   ]
  },
  {
   "cell_type": "code",
   "execution_count": 17,
   "metadata": {},
   "outputs": [
    {
     "name": "stdout",
     "output_type": "stream",
     "text": [
      "Solving odes takes 0.0960 s\n"
     ]
    }
   ],
   "source": [
    "# Feeds information to vode, an ode15s equivalent\n",
    "solver2=ode(kin).set_integrator('vode',rtol=1e-5,method='bdf') \n",
    "solver2.set_initial_value(y0,tspan[0])\n",
    "t, yout= [tspan[0]],[y0]\n",
    "\n",
    "# the time step to output the results \n",
    "dt = 0.01 \n",
    "\n",
    "start = time.time()\n",
    "\n",
    "while solver2.successful() and solver2.t < tspan[1]:\n",
    "    solver2.integrate(solver2.t+dt, step=True)\n",
    "    t.append(solver2.t)\n",
    "    yout.append(solver2.y)\n",
    "    \n",
    "end = time.time()\n",
    "print('Solving odes takes {0:.4f} s'.format(end-start))\n",
    "\n",
    "t_o2 = np.array(t)\n",
    "yout_o2 = np.array(yout)"
   ]
  },
  {
   "cell_type": "code",
   "execution_count": 18,
   "metadata": {},
   "outputs": [
    {
     "data": {
      "image/png": "[encoded data removed]",
      "text/plain": [
       "<Figure size 432x288 with 1 Axes>"
      ]
     },
     "metadata": {
      "needs_background": "light"
     },
     "output_type": "display_data"
    },
    {
     "data": {
      "image/png": "[encoded data removed]",
      "text/plain": [
       "<Figure size 432x288 with 1 Axes>"
      ]
     },
     "metadata": {
      "needs_background": "light"
     },
     "output_type": "display_data"
    }
   ],
   "source": [
    "fig = plt.figure() # Produces plots of the data\n",
    "ax = fig.add_subplot(111)\n",
    "ax.set_xlabel('Time')\n",
    "ax.set_ylabel('mRNA')\n",
    "ax.set_ylim(0,1.2)\n",
    "ax.plot(t_o2/3600,yout_o2[:,0]);\n",
    "\n",
    "fig = plt.figure()\n",
    "ax = fig.add_subplot(111)\n",
    "ax.set_xlabel('Time')\n",
    "ax.set_ylabel('Protein');\n",
    "ax.set_ylim(0,60)\n",
    "ax.plot(t_o2/3600,yout_o2[:,1]);"
   ]
  },
  {
   "cell_type": "markdown",
   "metadata": {},
   "source": [
    "# 4. Sampling and Storing Outputs <a name=\"sampling\"></a>  "
   ]
  },
  {
   "cell_type": "markdown",
   "metadata": {},
   "source": [
    "If we have simluations that take a long time, it is better to storage the output data and do the analysis later. \n",
    "\n",
    "We can convert the numpy arrays containing the time and species population at each kMC event into a format that's easier to read and post-process using __pandas data frames__ and then store them to __csv__ files.\n",
    "\n",
    "The following examples are demonstrated by scenario 2 from Gillespie's algorithm"
   ]
  },
  {
   "cell_type": "markdown",
   "metadata": {},
   "source": [
    "## 4.1 Output Every Event <a name=\"event\"></a>  "
   ]
  },
  {
   "cell_type": "code",
   "execution_count": 39,
   "metadata": {},
   "outputs": [
    {
     "data": {
      "text/html": [
       "<div>\n",
       "<style scoped>\n",
       "    .dataframe tbody tr th:only-of-type {\n",
       "        vertical-align: middle;\n",
       "    }\n",
       "\n",
       "    .dataframe tbody tr th {\n",
       "        vertical-align: top;\n",
       "    }\n",
       "\n",
       "    .dataframe thead th {\n",
       "        text-align: right;\n",
       "    }\n",
       "</style>\n",
       "<table border=\"1\" class=\"dataframe\">\n",
       "  <thead>\n",
       "    <tr style=\"text-align: right;\">\n",
       "      <th></th>\n",
       "      <th>Nevents</th>\n",
       "      <th>Time (s)</th>\n",
       "      <th>Reaction Index</th>\n",
       "      <th>mRNA Population</th>\n",
       "      <th>Protein Population</th>\n",
       "    </tr>\n",
       "  </thead>\n",
       "  <tbody>\n",
       "    <tr>\n",
       "      <th>0</th>\n",
       "      <td>0</td>\n",
       "      <td>0</td>\n",
       "      <td>None</td>\n",
       "      <td>0</td>\n",
       "      <td>0</td>\n",
       "    </tr>\n",
       "    <tr>\n",
       "      <th>1</th>\n",
       "      <td>1</td>\n",
       "      <td>11.4837</td>\n",
       "      <td>0</td>\n",
       "      <td>1</td>\n",
       "      <td>0</td>\n",
       "    </tr>\n",
       "    <tr>\n",
       "      <th>2</th>\n",
       "      <td>2</td>\n",
       "      <td>13.6798</td>\n",
       "      <td>2</td>\n",
       "      <td>0</td>\n",
       "      <td>0</td>\n",
       "    </tr>\n",
       "    <tr>\n",
       "      <th>3</th>\n",
       "      <td>3</td>\n",
       "      <td>21.9961</td>\n",
       "      <td>0</td>\n",
       "      <td>1</td>\n",
       "      <td>0</td>\n",
       "    </tr>\n",
       "    <tr>\n",
       "      <th>4</th>\n",
       "      <td>4</td>\n",
       "      <td>30.3796</td>\n",
       "      <td>2</td>\n",
       "      <td>0</td>\n",
       "      <td>0</td>\n",
       "    </tr>\n",
       "    <tr>\n",
       "      <th>5</th>\n",
       "      <td>5</td>\n",
       "      <td>31.8164</td>\n",
       "      <td>0</td>\n",
       "      <td>1</td>\n",
       "      <td>0</td>\n",
       "    </tr>\n",
       "    <tr>\n",
       "      <th>6</th>\n",
       "      <td>6</td>\n",
       "      <td>39.5402</td>\n",
       "      <td>1</td>\n",
       "      <td>1</td>\n",
       "      <td>1</td>\n",
       "    </tr>\n",
       "    <tr>\n",
       "      <th>7</th>\n",
       "      <td>7</td>\n",
       "      <td>41.1443</td>\n",
       "      <td>1</td>\n",
       "      <td>1</td>\n",
       "      <td>2</td>\n",
       "    </tr>\n",
       "    <tr>\n",
       "      <th>8</th>\n",
       "      <td>8</td>\n",
       "      <td>50.8982</td>\n",
       "      <td>2</td>\n",
       "      <td>0</td>\n",
       "      <td>2</td>\n",
       "    </tr>\n",
       "    <tr>\n",
       "      <th>9</th>\n",
       "      <td>9</td>\n",
       "      <td>53.2825</td>\n",
       "      <td>0</td>\n",
       "      <td>1</td>\n",
       "      <td>2</td>\n",
       "    </tr>\n",
       "    <tr>\n",
       "      <th>10</th>\n",
       "      <td>10</td>\n",
       "      <td>54.357</td>\n",
       "      <td>2</td>\n",
       "      <td>0</td>\n",
       "      <td>2</td>\n",
       "    </tr>\n",
       "    <tr>\n",
       "      <th>11</th>\n",
       "      <td>11</td>\n",
       "      <td>59.501</td>\n",
       "      <td>0</td>\n",
       "      <td>1</td>\n",
       "      <td>2</td>\n",
       "    </tr>\n",
       "    <tr>\n",
       "      <th>12</th>\n",
       "      <td>12</td>\n",
       "      <td>59.7398</td>\n",
       "      <td>2</td>\n",
       "      <td>0</td>\n",
       "      <td>2</td>\n",
       "    </tr>\n",
       "    <tr>\n",
       "      <th>13</th>\n",
       "      <td>13</td>\n",
       "      <td>66.6996</td>\n",
       "      <td>0</td>\n",
       "      <td>1</td>\n",
       "      <td>2</td>\n",
       "    </tr>\n",
       "    <tr>\n",
       "      <th>14</th>\n",
       "      <td>14</td>\n",
       "      <td>67.9182</td>\n",
       "      <td>1</td>\n",
       "      <td>1</td>\n",
       "      <td>3</td>\n",
       "    </tr>\n",
       "    <tr>\n",
       "      <th>15</th>\n",
       "      <td>15</td>\n",
       "      <td>74.3725</td>\n",
       "      <td>1</td>\n",
       "      <td>1</td>\n",
       "      <td>4</td>\n",
       "    </tr>\n",
       "    <tr>\n",
       "      <th>16</th>\n",
       "      <td>16</td>\n",
       "      <td>83.3296</td>\n",
       "      <td>0</td>\n",
       "      <td>2</td>\n",
       "      <td>4</td>\n",
       "    </tr>\n",
       "    <tr>\n",
       "      <th>17</th>\n",
       "      <td>17</td>\n",
       "      <td>83.8392</td>\n",
       "      <td>1</td>\n",
       "      <td>2</td>\n",
       "      <td>5</td>\n",
       "    </tr>\n",
       "    <tr>\n",
       "      <th>18</th>\n",
       "      <td>18</td>\n",
       "      <td>86.0855</td>\n",
       "      <td>3</td>\n",
       "      <td>2</td>\n",
       "      <td>4</td>\n",
       "    </tr>\n",
       "    <tr>\n",
       "      <th>19</th>\n",
       "      <td>19</td>\n",
       "      <td>88.0432</td>\n",
       "      <td>1</td>\n",
       "      <td>2</td>\n",
       "      <td>5</td>\n",
       "    </tr>\n",
       "  </tbody>\n",
       "</table>\n",
       "</div>"
      ],
      "text/plain": [
       "    Nevents Time (s) Reaction Index mRNA Population Protein Population\n",
       "0         0        0           None               0                  0\n",
       "1         1  11.4837              0               1                  0\n",
       "2         2  13.6798              2               0                  0\n",
       "3         3  21.9961              0               1                  0\n",
       "4         4  30.3796              2               0                  0\n",
       "5         5  31.8164              0               1                  0\n",
       "6         6  39.5402              1               1                  1\n",
       "7         7  41.1443              1               1                  2\n",
       "8         8  50.8982              2               0                  2\n",
       "9         9  53.2825              0               1                  2\n",
       "10       10   54.357              2               0                  2\n",
       "11       11   59.501              0               1                  2\n",
       "12       12  59.7398              2               0                  2\n",
       "13       13  66.6996              0               1                  2\n",
       "14       14  67.9182              1               1                  3\n",
       "15       15  74.3725              1               1                  4\n",
       "16       16  83.3296              0               2                  4\n",
       "17       17  83.8392              1               2                  5\n",
       "18       18  86.0855              3               2                  4\n",
       "19       19  88.0432              1               2                  5"
      ]
     },
     "execution_count": 39,
     "metadata": {},
     "output_type": "execute_result"
    }
   ],
   "source": [
    "# Add a column for the number of events\n",
    "n_events = np.arange(0, len(val_ga_2))\n",
    "\n",
    "# convert np array to a pd dataframe\n",
    "raw_df = {'Nevents':n_events,\n",
    "         'Time (s)': val_ga_2[:,0],\n",
    "         'Reaction Index': val_ga_2[:,3],\n",
    "         'mRNA Population': val_ga_2[:,1],\n",
    "         'Protein Population': val_ga_2[:, 2]}\n",
    "\n",
    "ga_df = pd.DataFrame(raw_df)\n",
    "\n",
    "\n",
    "# Preview the firs 20 evnets in the dataframe\n",
    "ga_df.head(n = 20)"
   ]
  },
  {
   "cell_type": "code",
   "execution_count": 20,
   "metadata": {},
   "outputs": [],
   "source": [
    "# Save the dataframe to a csv file for post-processing\n",
    "ga_df.to_csv('Gene_Expression_All_Events.csv')"
   ]
  },
  {
   "cell_type": "markdown",
   "metadata": {},
   "source": [
    "## 4.2 Sample on Event<a name=\"events\"></a>  \n",
    "\n",
    "To save memory, sample at every k events (k is an integer) and store the output into a csv file"
   ]
  },
  {
   "cell_type": "code",
   "execution_count": 21,
   "metadata": {},
   "outputs": [
    {
     "data": {
      "text/html": [
       "<div>\n",
       "<style scoped>\n",
       "    .dataframe tbody tr th:only-of-type {\n",
       "        vertical-align: middle;\n",
       "    }\n",
       "\n",
       "    .dataframe tbody tr th {\n",
       "        vertical-align: top;\n",
       "    }\n",
       "\n",
       "    .dataframe thead th {\n",
       "        text-align: right;\n",
       "    }\n",
       "</style>\n",
       "<table border=\"1\" class=\"dataframe\">\n",
       "  <thead>\n",
       "    <tr style=\"text-align: right;\">\n",
       "      <th></th>\n",
       "      <th>Nevents</th>\n",
       "      <th>Time (s)</th>\n",
       "      <th>mRNA Population</th>\n",
       "      <th>Protein Population</th>\n",
       "    </tr>\n",
       "  </thead>\n",
       "  <tbody>\n",
       "    <tr>\n",
       "      <th>0</th>\n",
       "      <td>0</td>\n",
       "      <td>0.000000</td>\n",
       "      <td>0.0</td>\n",
       "      <td>0.0</td>\n",
       "    </tr>\n",
       "    <tr>\n",
       "      <th>1</th>\n",
       "      <td>500</td>\n",
       "      <td>1393.460275</td>\n",
       "      <td>2.0</td>\n",
       "      <td>48.0</td>\n",
       "    </tr>\n",
       "    <tr>\n",
       "      <th>2</th>\n",
       "      <td>1000</td>\n",
       "      <td>2435.940540</td>\n",
       "      <td>3.0</td>\n",
       "      <td>73.0</td>\n",
       "    </tr>\n",
       "    <tr>\n",
       "      <th>3</th>\n",
       "      <td>1500</td>\n",
       "      <td>3641.788929</td>\n",
       "      <td>3.0</td>\n",
       "      <td>45.0</td>\n",
       "    </tr>\n",
       "    <tr>\n",
       "      <th>4</th>\n",
       "      <td>2000</td>\n",
       "      <td>4893.961595</td>\n",
       "      <td>0.0</td>\n",
       "      <td>38.0</td>\n",
       "    </tr>\n",
       "    <tr>\n",
       "      <th>5</th>\n",
       "      <td>2500</td>\n",
       "      <td>6016.557183</td>\n",
       "      <td>1.0</td>\n",
       "      <td>53.0</td>\n",
       "    </tr>\n",
       "    <tr>\n",
       "      <th>6</th>\n",
       "      <td>3000</td>\n",
       "      <td>7371.870449</td>\n",
       "      <td>1.0</td>\n",
       "      <td>43.0</td>\n",
       "    </tr>\n",
       "    <tr>\n",
       "      <th>7</th>\n",
       "      <td>3500</td>\n",
       "      <td>8719.039132</td>\n",
       "      <td>2.0</td>\n",
       "      <td>30.0</td>\n",
       "    </tr>\n",
       "    <tr>\n",
       "      <th>8</th>\n",
       "      <td>4000</td>\n",
       "      <td>10245.884913</td>\n",
       "      <td>2.0</td>\n",
       "      <td>50.0</td>\n",
       "    </tr>\n",
       "    <tr>\n",
       "      <th>9</th>\n",
       "      <td>4500</td>\n",
       "      <td>11682.222323</td>\n",
       "      <td>3.0</td>\n",
       "      <td>51.0</td>\n",
       "    </tr>\n",
       "    <tr>\n",
       "      <th>10</th>\n",
       "      <td>5000</td>\n",
       "      <td>13082.724589</td>\n",
       "      <td>2.0</td>\n",
       "      <td>40.0</td>\n",
       "    </tr>\n",
       "    <tr>\n",
       "      <th>11</th>\n",
       "      <td>5500</td>\n",
       "      <td>14399.188421</td>\n",
       "      <td>1.0</td>\n",
       "      <td>45.0</td>\n",
       "    </tr>\n",
       "    <tr>\n",
       "      <th>12</th>\n",
       "      <td>6000</td>\n",
       "      <td>15564.844018</td>\n",
       "      <td>2.0</td>\n",
       "      <td>50.0</td>\n",
       "    </tr>\n",
       "    <tr>\n",
       "      <th>13</th>\n",
       "      <td>6500</td>\n",
       "      <td>16945.887189</td>\n",
       "      <td>1.0</td>\n",
       "      <td>47.0</td>\n",
       "    </tr>\n",
       "    <tr>\n",
       "      <th>14</th>\n",
       "      <td>7000</td>\n",
       "      <td>18137.392571</td>\n",
       "      <td>2.0</td>\n",
       "      <td>62.0</td>\n",
       "    </tr>\n",
       "    <tr>\n",
       "      <th>15</th>\n",
       "      <td>7500</td>\n",
       "      <td>19446.449483</td>\n",
       "      <td>1.0</td>\n",
       "      <td>43.0</td>\n",
       "    </tr>\n",
       "    <tr>\n",
       "      <th>16</th>\n",
       "      <td>8000</td>\n",
       "      <td>20598.509113</td>\n",
       "      <td>2.0</td>\n",
       "      <td>54.0</td>\n",
       "    </tr>\n",
       "    <tr>\n",
       "      <th>17</th>\n",
       "      <td>8500</td>\n",
       "      <td>21683.148430</td>\n",
       "      <td>0.0</td>\n",
       "      <td>56.0</td>\n",
       "    </tr>\n",
       "    <tr>\n",
       "      <th>18</th>\n",
       "      <td>9000</td>\n",
       "      <td>22952.556929</td>\n",
       "      <td>1.0</td>\n",
       "      <td>59.0</td>\n",
       "    </tr>\n",
       "    <tr>\n",
       "      <th>19</th>\n",
       "      <td>9500</td>\n",
       "      <td>24310.462564</td>\n",
       "      <td>2.0</td>\n",
       "      <td>42.0</td>\n",
       "    </tr>\n",
       "  </tbody>\n",
       "</table>\n",
       "</div>"
      ],
      "text/plain": [
       "    Nevents      Time (s)  mRNA Population  Protein Population\n",
       "0         0      0.000000              0.0                 0.0\n",
       "1       500   1393.460275              2.0                48.0\n",
       "2      1000   2435.940540              3.0                73.0\n",
       "3      1500   3641.788929              3.0                45.0\n",
       "4      2000   4893.961595              0.0                38.0\n",
       "5      2500   6016.557183              1.0                53.0\n",
       "6      3000   7371.870449              1.0                43.0\n",
       "7      3500   8719.039132              2.0                30.0\n",
       "8      4000  10245.884913              2.0                50.0\n",
       "9      4500  11682.222323              3.0                51.0\n",
       "10     5000  13082.724589              2.0                40.0\n",
       "11     5500  14399.188421              1.0                45.0\n",
       "12     6000  15564.844018              2.0                50.0\n",
       "13     6500  16945.887189              1.0                47.0\n",
       "14     7000  18137.392571              2.0                62.0\n",
       "15     7500  19446.449483              1.0                43.0\n",
       "16     8000  20598.509113              2.0                54.0\n",
       "17     8500  21683.148430              0.0                56.0\n",
       "18     9000  22952.556929              1.0                59.0\n",
       "19     9500  24310.462564              2.0                42.0"
      ]
     },
     "execution_count": 21,
     "metadata": {},
     "output_type": "execute_result"
    }
   ],
   "source": [
    "# sample every k events\n",
    "k_sample = 500\n",
    "\n",
    "# Creates table display for sample data points by events\n",
    "sample_events = np.array(range(0,len(val_ga_2)-1, k_sample)) #Initial, final, on k events\n",
    "sample_events = np.append(sample_events,len(val_ga_2)-1) # Include the final event\n",
    "time_df = []\n",
    "index_df = []\n",
    "m_df = []\n",
    "p_df = []\n",
    "for i in sample_events: # add data to respective column array\n",
    "    time_df.append(val_ga_2[i][0]) # s\n",
    "    index_df.append(val_ga_2[i][3])\n",
    "    m_df.append(val_ga_2[i][1])\n",
    "    p_df.append(val_ga_2[i][2])\n",
    "\n",
    "time_df = np.array(time_df)\n",
    "m_df = np.array(m_df)\n",
    "p_df = np.array(p_df)\n",
    "\n",
    "# Place data into a dataframe\n",
    "raw_df = {'Nevents':sample_events,\n",
    "         'Time (s)': time_df,\n",
    "         'Reaction Index': index_df,\n",
    "         'mRNA Population': m_df,\n",
    "         'Protein Population': p_df}\n",
    "sample_events_df = pd.DataFrame(raw_df)\n",
    "\n",
    "# Preview the first 20 evnets in the dataframe\n",
    "sample_events_df.head(n = 20)"
   ]
  },
  {
   "cell_type": "code",
   "execution_count": 22,
   "metadata": {},
   "outputs": [],
   "source": [
    "# Save the dataframe to a csv file for post-processing\n",
    "sample_events_df.to_csv('output_files/Gene_Expression_Sample_Events.csv')"
   ]
  },
  {
   "cell_type": "markdown",
   "metadata": {},
   "source": [
    "## 4.2 Sample on Time<a name=\"time\"></a> \n",
    "\n",
    "We can also simple data points at linearly spaced time points."
   ]
  },
  {
   "cell_type": "code",
   "execution_count": 41,
   "metadata": {},
   "outputs": [
    {
     "data": {
      "text/html": [
       "<div>\n",
       "<style scoped>\n",
       "    .dataframe tbody tr th:only-of-type {\n",
       "        vertical-align: middle;\n",
       "    }\n",
       "\n",
       "    .dataframe tbody tr th {\n",
       "        vertical-align: top;\n",
       "    }\n",
       "\n",
       "    .dataframe thead th {\n",
       "        text-align: right;\n",
       "    }\n",
       "</style>\n",
       "<table border=\"1\" class=\"dataframe\">\n",
       "  <thead>\n",
       "    <tr style=\"text-align: right;\">\n",
       "      <th></th>\n",
       "      <th>Steps</th>\n",
       "      <th>Time (s)</th>\n",
       "      <th>Reaction Index</th>\n",
       "      <th>mRNA Population</th>\n",
       "      <th>Protein Population</th>\n",
       "    </tr>\n",
       "  </thead>\n",
       "  <tbody>\n",
       "    <tr>\n",
       "      <th>0</th>\n",
       "      <td>0</td>\n",
       "      <td>0.00</td>\n",
       "      <td>NaN</td>\n",
       "      <td>0.0</td>\n",
       "      <td>0.0</td>\n",
       "    </tr>\n",
       "    <tr>\n",
       "      <th>1</th>\n",
       "      <td>623</td>\n",
       "      <td>1801.22</td>\n",
       "      <td>2.0</td>\n",
       "      <td>2.0</td>\n",
       "      <td>57.0</td>\n",
       "    </tr>\n",
       "    <tr>\n",
       "      <th>2</th>\n",
       "      <td>1413</td>\n",
       "      <td>3600.12</td>\n",
       "      <td>1.0</td>\n",
       "      <td>1.0</td>\n",
       "      <td>56.0</td>\n",
       "    </tr>\n",
       "    <tr>\n",
       "      <th>3</th>\n",
       "      <td>2118</td>\n",
       "      <td>5401.65</td>\n",
       "      <td>3.0</td>\n",
       "      <td>0.0</td>\n",
       "      <td>44.0</td>\n",
       "    </tr>\n",
       "    <tr>\n",
       "      <th>4</th>\n",
       "      <td>2916</td>\n",
       "      <td>7205.15</td>\n",
       "      <td>3.0</td>\n",
       "      <td>1.0</td>\n",
       "      <td>59.0</td>\n",
       "    </tr>\n",
       "    <tr>\n",
       "      <th>5</th>\n",
       "      <td>3589</td>\n",
       "      <td>9002.76</td>\n",
       "      <td>3.0</td>\n",
       "      <td>0.0</td>\n",
       "      <td>43.0</td>\n",
       "    </tr>\n",
       "    <tr>\n",
       "      <th>6</th>\n",
       "      <td>4342</td>\n",
       "      <td>10803.14</td>\n",
       "      <td>3.0</td>\n",
       "      <td>1.0</td>\n",
       "      <td>61.0</td>\n",
       "    </tr>\n",
       "    <tr>\n",
       "      <th>7</th>\n",
       "      <td>5080</td>\n",
       "      <td>12601.81</td>\n",
       "      <td>3.0</td>\n",
       "      <td>3.0</td>\n",
       "      <td>47.0</td>\n",
       "    </tr>\n",
       "    <tr>\n",
       "      <th>8</th>\n",
       "      <td>5714</td>\n",
       "      <td>14400.20</td>\n",
       "      <td>2.0</td>\n",
       "      <td>1.0</td>\n",
       "      <td>45.0</td>\n",
       "    </tr>\n",
       "    <tr>\n",
       "      <th>9</th>\n",
       "      <td>6400</td>\n",
       "      <td>16201.48</td>\n",
       "      <td>3.0</td>\n",
       "      <td>2.0</td>\n",
       "      <td>48.0</td>\n",
       "    </tr>\n",
       "    <tr>\n",
       "      <th>10</th>\n",
       "      <td>7172</td>\n",
       "      <td>18000.30</td>\n",
       "      <td>3.0</td>\n",
       "      <td>0.0</td>\n",
       "      <td>52.0</td>\n",
       "    </tr>\n",
       "    <tr>\n",
       "      <th>11</th>\n",
       "      <td>7902</td>\n",
       "      <td>19803.46</td>\n",
       "      <td>3.0</td>\n",
       "      <td>1.0</td>\n",
       "      <td>67.0</td>\n",
       "    </tr>\n",
       "    <tr>\n",
       "      <th>12</th>\n",
       "      <td>8735</td>\n",
       "      <td>21601.95</td>\n",
       "      <td>2.0</td>\n",
       "      <td>0.0</td>\n",
       "      <td>49.0</td>\n",
       "    </tr>\n",
       "    <tr>\n",
       "      <th>13</th>\n",
       "      <td>9514</td>\n",
       "      <td>23416.92</td>\n",
       "      <td>3.0</td>\n",
       "      <td>0.0</td>\n",
       "      <td>66.0</td>\n",
       "    </tr>\n",
       "    <tr>\n",
       "      <th>14</th>\n",
       "      <td>10180</td>\n",
       "      <td>25208.32</td>\n",
       "      <td>3.0</td>\n",
       "      <td>0.0</td>\n",
       "      <td>36.0</td>\n",
       "    </tr>\n",
       "    <tr>\n",
       "      <th>15</th>\n",
       "      <td>10813</td>\n",
       "      <td>27002.95</td>\n",
       "      <td>0.0</td>\n",
       "      <td>2.0</td>\n",
       "      <td>39.0</td>\n",
       "    </tr>\n",
       "    <tr>\n",
       "      <th>16</th>\n",
       "      <td>11496</td>\n",
       "      <td>28802.41</td>\n",
       "      <td>3.0</td>\n",
       "      <td>1.0</td>\n",
       "      <td>49.0</td>\n",
       "    </tr>\n",
       "  </tbody>\n",
       "</table>\n",
       "</div>"
      ],
      "text/plain": [
       "    Steps  Time (s)  Reaction Index  mRNA Population  Protein Population\n",
       "0       0      0.00             NaN              0.0                 0.0\n",
       "1     623   1801.22             2.0              2.0                57.0\n",
       "2    1413   3600.12             1.0              1.0                56.0\n",
       "3    2118   5401.65             3.0              0.0                44.0\n",
       "4    2916   7205.15             3.0              1.0                59.0\n",
       "5    3589   9002.76             3.0              0.0                43.0\n",
       "6    4342  10803.14             3.0              1.0                61.0\n",
       "7    5080  12601.81             3.0              3.0                47.0\n",
       "8    5714  14400.20             2.0              1.0                45.0\n",
       "9    6400  16201.48             3.0              2.0                48.0\n",
       "10   7172  18000.30             3.0              0.0                52.0\n",
       "11   7902  19803.46             3.0              1.0                67.0\n",
       "12   8735  21601.95             2.0              0.0                49.0\n",
       "13   9514  23416.92             3.0              0.0                66.0\n",
       "14  10180  25208.32             3.0              0.0                36.0\n",
       "15  10813  27002.95             0.0              2.0                39.0\n",
       "16  11496  28802.41             3.0              1.0                49.0"
      ]
     },
     "execution_count": 41,
     "metadata": {},
     "output_type": "execute_result"
    }
   ],
   "source": [
    "# To store select data points at a time interval\n",
    "\n",
    "t_gap = 1800 #s\n",
    "t_lim = t_gap\n",
    "n_events = [0]\n",
    "for i in range(len(val_ga_2)-1): # Select data points to include\n",
    "    if val_ga_2[i][0] >= t_lim:\n",
    "        n_events.append(i)\n",
    "        t_lim += t_gap\n",
    "        \n",
    "n_events = np.append(n_events,len(val_ga_2)-1) # include the final event\n",
    "time_df = []\n",
    "index_df = []\n",
    "m_df = []\n",
    "p_df = []\n",
    "\n",
    "for i in n_events: # Add data to respective column array\n",
    "    time_df.append(round(val_ga_2[i][0],2)) # s\n",
    "    index_df.append(val_ga_2[i][3])\n",
    "    m_df.append(val_ga_2[i][1])\n",
    "    p_df.append(val_ga_2[i][2])\n",
    "\n",
    "time_df = np.array(time_df)\n",
    "m_df = np.array(m_df)\n",
    "p_df = np.array(p_df)\n",
    "\n",
    "# Place data into a dataframe\n",
    "raw_df = {'Steps':n_events,\n",
    "         'Time (s)': time_df,\n",
    "         'Reaction Index': index_df,\n",
    "         'mRNA Population': m_df,\n",
    "         'Protein Population': p_df}\n",
    "sample_time_df = pd.DataFrame(raw_df)\n",
    "\n",
    "# Preview the first 20 evnets in the dataframe\n",
    "sample_time_df.head(n = 20)"
   ]
  },
  {
   "cell_type": "code",
   "execution_count": 24,
   "metadata": {},
   "outputs": [],
   "source": [
    "# Save the dataframe to a csv file for post-processing\n",
    "sample_time_df.to_csv('output_files/Gene_Expression_Sample_Time.csv')"
   ]
  },
  {
   "cell_type": "markdown",
   "metadata": {},
   "source": [
    "# 5. Computing  Averages <a name=\"mean\"></a>  \n",
    "\n",
    "The plots make it appear that the kMC methods result in higher populations of mRNA compared to the steady state rate solution given by the mean-field. This is due to a large amount of fluctuations in the population, and the difficulty in displaying populations in short time frames. The average properties in kMC simulations are meaningful quantities to compute to counter stochatic noise.\n",
    "\n",
    "A property $Y(t)$ can be esitamted as arithmetic or time averages. Due to __ergodicity__, temporal and ensemble averages should gives the same results. For a long time T and many observations N, the time average is approximated by:\n",
    "\n",
    "$\\frac{1}{T}\\int_{0}^{T} Y(T) dt  \\approx \\frac{1}{T} \\sum_{i=1}^{N} Y(t_{i}) \\Delta t_{i} \\approx \\frac{1}{N} \\sum_{i=1}^{N} Y_{i} $\n",
    "\n",
    "where it assumes that interval (0, T) has been divided into N subintervals and each with the size of $t_{i}$. \n",
    "\n",
    "Only when the transition probabilities and the time steps do not change much, the second equality works well. Therefore, computing time averages is recommended instead of simple arithmetic means. \n",
    "\n",
    "In order to access whether steady state has been reached, the kMC simulations are partitioned in subintervals or windows of certain number of MC events. In many cases, two windows are introduced. The first contains the induction period and it should be long enough so that the initial transients have decayed. The second window which has a much larger size describes the steady state of equilibrium state. We focus our discussion of average properties mainly on the steady state in the second window and disgard __Nw__ MC events which are considered to be in the first window."
   ]
  },
  {
   "cell_type": "markdown",
   "metadata": {},
   "source": [
    "## 5.1 Compute Average Populations<a name=\"mean_pop\"></a> \n",
    "\n",
    "Time average population sizes can be computed. For kth species, the time average between times $t$ and $t+\\tau$ is\n",
    "\n",
    "$\\bar X_{k} = \\frac{1}{\\tau}\\int_{t}^{t+\\tau} X_{k}(i) dt  = \\frac {\\sum_{i=1}^{n} X_{k}(i) \\Delta t(i)}{\\tau}= \\sum_{i=1}^{n} X_{k}(i) p(i) $ \n",
    "\n",
    "\n",
    "The last equality introduces the probability spent in state i, $p(i) = \\Delta t(i)/\\tau $\n",
    "\n",
    "We can compare the time average values with the arithmetic average $ \\frac{1}{N} \\sum_{i=1}^{N} X_{k}(i) $"
   ]
  },
  {
   "cell_type": "code",
   "execution_count": 60,
   "metadata": {},
   "outputs": [],
   "source": [
    "# A function to calculate the time average property \n",
    "# given a vector of time and corresponding quantities\n",
    "\n",
    "def time_average(time_v, x_v):\n",
    "    \n",
    "    dt = np.diff(time_v) # calculate dt\n",
    "    x = x_v[1:] # starting from the 2nd point\n",
    "    \n",
    "    x_mean_t = np.dot(dt, x)/np.sum(dt)\n",
    "    \n",
    "    return x_mean_t"
   ]
  },
  {
   "cell_type": "code",
   "execution_count": 61,
   "metadata": {},
   "outputs": [
    {
     "data": {
      "text/html": [
       "<div>\n",
       "<style scoped>\n",
       "    .dataframe tbody tr th:only-of-type {\n",
       "        vertical-align: middle;\n",
       "    }\n",
       "\n",
       "    .dataframe tbody tr th {\n",
       "        vertical-align: top;\n",
       "    }\n",
       "\n",
       "    .dataframe thead th {\n",
       "        text-align: right;\n",
       "    }\n",
       "</style>\n",
       "<table border=\"1\" class=\"dataframe\">\n",
       "  <thead>\n",
       "    <tr style=\"text-align: right;\">\n",
       "      <th></th>\n",
       "      <th>Xi / method</th>\n",
       "      <th>Time Average</th>\n",
       "      <th>Arithmetic Mean</th>\n",
       "      <th>Mean-field (ODE)</th>\n",
       "    </tr>\n",
       "  </thead>\n",
       "  <tbody>\n",
       "    <tr>\n",
       "      <th>0</th>\n",
       "      <td>mRNA / GA</td>\n",
       "      <td>1.119409</td>\n",
       "      <td>1.518265</td>\n",
       "      <td>1.0</td>\n",
       "    </tr>\n",
       "    <tr>\n",
       "      <th>1</th>\n",
       "      <td>Protein / GA</td>\n",
       "      <td>49.890336</td>\n",
       "      <td>50.805868</td>\n",
       "      <td>50.0</td>\n",
       "    </tr>\n",
       "    <tr>\n",
       "      <th>2</th>\n",
       "      <td>mRNA / tau-leaping</td>\n",
       "      <td>1.600032</td>\n",
       "      <td>1.601623</td>\n",
       "      <td>1.0</td>\n",
       "    </tr>\n",
       "    <tr>\n",
       "      <th>3</th>\n",
       "      <td>Protein / tau-leaping</td>\n",
       "      <td>81.308485</td>\n",
       "      <td>81.319134</td>\n",
       "      <td>50.0</td>\n",
       "    </tr>\n",
       "  </tbody>\n",
       "</table>\n",
       "</div>"
      ],
      "text/plain": [
       "             Xi / method  Time Average  Arithmetic Mean  Mean-field (ODE)\n",
       "0              mRNA / GA      1.119409         1.518265               1.0\n",
       "1           Protein / GA     49.890336        50.805868              50.0\n",
       "2     mRNA / tau-leaping      1.600032         1.601623               1.0\n",
       "3  Protein / tau-leaping     81.308485        81.319134              50.0"
      ]
     },
     "execution_count": 61,
     "metadata": {},
     "output_type": "execute_result"
    }
   ],
   "source": [
    "# For gillespie's, scenario 2\n",
    "# Disgard the first 1/4 of total events in the first window\n",
    "val_ga_2_ss = val_ga_2[round(len(val_ga_2)/4):,:]\n",
    "\n",
    "tv_ga = val_ga_2_ss[:,0]\n",
    "mRNAv_ga = val_ga_2_ss[:,1]\n",
    "prov_ga = val_ga_2_ss[:,2]\n",
    "\n",
    "# the time section \n",
    "tau = tv_ga[-1] - tv_ga[0]\n",
    "\n",
    "# time averages\n",
    "mRNA_mean_t_ga = time_average(tv_ga, mRNAv_ga)\n",
    "pro_mean_t_ga = time_average(tv_ga, prov_ga)\n",
    "\n",
    "# airthmetic averages\n",
    "mRNA_mean_a_ga = np.mean(mRNAv_ga)\n",
    "pro_mean_a_ga = np.mean(prov_ga)\n",
    "\n",
    "# For tau-leaping, scenario 2\n",
    "\n",
    "# Disgard the first 1/4 of total events in the first window\n",
    "val_tl_2_ss = val_tl_2[round(len(val_tl_2)/4):,:]\n",
    "\n",
    "tv_tl = val_tl_2_ss[:,0]\n",
    "mRNAv_tl = val_tl_2_ss[:,1]\n",
    "prov_tl = val_tl_2_ss[:,2]\n",
    "\n",
    "# time averages\n",
    "mRNA_mean_t_tl = time_average(tv_tl, mRNAv_tl)\n",
    "pro_mean_t_tl = time_average(tv_tl, prov_tl)\n",
    "\n",
    "# arithmetic averages\n",
    "mRNA_mean_a_tl = np.mean(mRNAv_tl)\n",
    "pro_mean_a_tl = np.mean(prov_tl)\n",
    "\n",
    "# Display the average values \n",
    "average_data = [['mRNA / GA', mRNA_mean_t_ga, mRNA_mean_a_ga, r_ss_2], \n",
    "                ['Protein / GA', pro_mean_t_ga, pro_mean_a_ga, p_ss_2], \n",
    "                ['mRNA / tau-leaping', mRNA_mean_t_tl, mRNA_mean_a_tl, r_ss_2],\n",
    "                ['Protein / tau-leaping', pro_mean_t_tl, pro_mean_a_tl, p_ss_2]]\n",
    "\n",
    "pd.DataFrame(average_data, columns=[\"Xi / method\", \"Time Average\", 'Arithmetic Mean', 'Mean-field (ODE)'])"
   ]
  },
  {
   "cell_type": "markdown",
   "metadata": {},
   "source": [
    "## 5.2 Compute Average Rates <a name=\"rates\"></a> \n",
    "\n",
    "### 5.2.1 The Time Average Method<a name=\"rates_time\"></a> \n",
    "\n",
    "For kth microscopic process, the time average rate between times $t$ and $t+\\tau$ is\n",
    "\n",
    "$\\bar r_{k} = \\frac{1}{\\tau}\\int_{t}^{t+\\tau} a_{k}(i) dt  = \\frac {\\sum_{i=1}^{n} a_{k}(i) \\Delta t(i)}{\\tau} $\n",
    "\n",
    "Where $a_{k}(i)$ is the propensity of process k at time t.\n",
    "\n",
    "### 5.2.2 Events-based Method<a name=\"rates_event\"></a> \n",
    "\n",
    "The number of molecular events, $\\xi_{k}$, of the kth process taking place during the time interval $\\tau$ can be used to compute rates since the number of events occurred can be easily kept track of.\n",
    "\n",
    "$\\bar r_{k} = \\frac{\\xi_{k}}{\\tau}$\n",
    "\n",
    "The rate can be converted to moles per unit time or __turnover frequency (TOF)__ by dividing $N_{av} vol$ or $N_{s} N_{av} area$ , respectively. ($N_{s}$ is the total number of sites for surface processes).\n",
    "\n",
    "\n",
    "Here, we compare the kMC rates with the average concentration-based rates from mean-field.\n",
    "\n",
    "For example, reaction 2, transcription of $p$: $r \\xrightarrow{\\text{kp}} r + p$, is 1st order with respect to mRNA (r).\n",
    "\n",
    "Its average rates between times $t$ and $t+\\tau$ can be written as:\n",
    "\n",
    "| Method        | $\\bar r_{2} $ |\n",
    "| ------------- |:-------------:| \n",
    "| Time Average  | $ \\frac {\\sum_{i=1}^{n} k_{p} X_{r}(i) \\Delta t(i)}{\\tau}  =  k_{p} \\bar X_{r} $| \n",
    "| Events-base   | $ \\frac{\\xi_{2}}{\\tau}$                                                          |\n",
    "| Mean-field    | $ k_{p} [r]_{ss} $                                                               | \n"
   ]
  },
  {
   "cell_type": "code",
   "execution_count": 62,
   "metadata": {},
   "outputs": [
    {
     "data": {
      "text/html": [
       "<div>\n",
       "<style scoped>\n",
       "    .dataframe tbody tr th:only-of-type {\n",
       "        vertical-align: middle;\n",
       "    }\n",
       "\n",
       "    .dataframe tbody tr th {\n",
       "        vertical-align: top;\n",
       "    }\n",
       "\n",
       "    .dataframe thead th {\n",
       "        text-align: right;\n",
       "    }\n",
       "</style>\n",
       "<table border=\"1\" class=\"dataframe\">\n",
       "  <thead>\n",
       "    <tr style=\"text-align: right;\">\n",
       "      <th></th>\n",
       "      <th>Xi / method</th>\n",
       "      <th>Time Average</th>\n",
       "      <th>Event-based</th>\n",
       "      <th>Mean-field (ODE)</th>\n",
       "    </tr>\n",
       "  </thead>\n",
       "  <tbody>\n",
       "    <tr>\n",
       "      <th>0</th>\n",
       "      <td>rate / GA</td>\n",
       "      <td>0.111941</td>\n",
       "      <td>0.100568</td>\n",
       "      <td>0.1</td>\n",
       "    </tr>\n",
       "  </tbody>\n",
       "</table>\n",
       "</div>"
      ],
      "text/plain": [
       "  Xi / method  Time Average  Event-based  Mean-field (ODE)\n",
       "0   rate / GA      0.111941     0.100568               0.1"
      ]
     },
     "execution_count": 62,
     "metadata": {},
     "output_type": "execute_result"
    }
   ],
   "source": [
    "# For gillespie's, scenario 2\n",
    "\n",
    "# Time average rates \n",
    "rate_t_ga = kp * mRNA_mean_t_ga #molecule/\n",
    "\n",
    "# Event-rates\n",
    "# Count the number of events which has reaction index == 1 \n",
    "# (python index, real index 2)\n",
    "rate_event_ga = len(np.where(val_ga_2_ss[:,3] == 1)[0])/tau\n",
    "\n",
    "# Mean-field rates\n",
    "rate_ss = kp * r_ss_2\n",
    "\n",
    "\n",
    "# Display the average values \n",
    "average_data = [['rate / GA', rate_t_ga, rate_event_ga, rate_ss]]\n",
    "\n",
    "pd.DataFrame(average_data, columns=[\"Xi / method\", \"Time Average\", 'Event-based', 'Mean-field (ODE)'])"
   ]
  },
  {
   "cell_type": "markdown",
   "metadata": {},
   "source": [
    "## 5.3 kMC vs Mean-field <a name=\"vs\"></a> \n",
    "\n",
    "As shown above, for __linear kinetics__, one can compute the kMC average quantities using esitimates of average concentrations (mean-field).\n",
    "\n",
    "A good example can be found in ref [[2]](https://pubs.acs.org/doi/10.1021/acscatal.9b00179) comparing kMC coverages and mean-field coverages for a CO oxidation system. They match exactly.\n",
    "\n",
    "However, for __nonliner kinetics__ such as a bimolecular reaction, this approach is problemtic where correlations between concentrations would be suppressed (i.e. $<X_{A} X_{B}> \\neq <X_{A}><X_{B}>$) . Interested readers can refer to ref [[3]](https://aip.scitation.org/doi/abs/10.1063/1.2741556) for more details\n",
    "\n"
   ]
  }
 ],
 "metadata": {
  "kernelspec": {
   "display_name": "Python 3",
   "language": "python",
   "name": "python3"
  },
  "language_info": {
   "codemirror_mode": {
    "name": "ipython",
    "version": 3
   },
   "file_extension": ".py",
   "mimetype": "text/x-python",
   "name": "python",
   "nbconvert_exporter": "python",
   "pygments_lexer": "ipython3",
   "version": "3.6.8"
  }
 },
 "nbformat": 4,
 "nbformat_minor": 2
}
