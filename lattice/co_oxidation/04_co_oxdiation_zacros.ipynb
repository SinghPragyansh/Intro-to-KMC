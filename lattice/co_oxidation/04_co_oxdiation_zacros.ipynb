{
 "cells": [
  {
   "cell_type": "markdown",
   "metadata": {},
   "source": [
    "# CO Oxidation Example on Pd(111) by Zacros and Zacros Wrapper"
   ]
  },
  {
   "cell_type": "markdown",
   "metadata": {},
   "source": [
    "## Reference\n",
    "\n",
    "[1]. [Zacros Website](http://zacros.org/)\n",
    "\n",
    "[2]. [Zacros Wrapper Repository](https://github.com/VlachosGroup/Zacros-Wrapper)\n",
    "\n",
    "[3]. [Stamatakis, M.; Vlachos, D. G. A Graph-Theoretical Kinetic Monte Carlo Framework for on-Lattice Chemical Kinetics. J. Chem. Phys. 2011, 134 (21), 214115.](https://aip.scitation.org/doi/abs/10.1063/1.3596751)\n",
    "\n",
    "[4]. [Nielsen, J.; D’Avezac, M.; Hetherington, J.; Stamatakis, M. Parallel Kinetic Monte Carlo Simulation Framework Incorporating Accurate Models of Adsorbate Lateral Interactions. J. Chem. Phys. 2013, 139 (22), 224706.](https://aip.scitation.org/doi/abs/10.1063/1.4840395)\n",
    "\n",
    "[5] [Núñez, M.; Robie, T.; Vlachos, D. G. Acceleration and Sensitivity Analysis of Lattice Kinetic Monte Carlo Simulations Using Parallel Processing and Rate Constant Rescaling. J. Chem. Phys. 2017, 147 (16).](https://aip.scitation.org/doi/abs/10.1063/1.4998926)\n",
    "\n",
    "[6] [Piccinin, S.; Stamatakis, M. CO Oxidation on Pd ( 111 ): A First-Principles-Based Kinetic Monte Carlo Study. 2014, No. 111.](https://pubs.acs.org/doi/abs/10.1021/cs500377j)\n"
   ]
  },
  {
   "cell_type": "markdown",
   "metadata": {},
   "source": [
    "# Table of contents\n",
    "\n",
    "- [1. KMC vs MKM](#1)\n",
    "\n",
    "\n",
    "- [2. Lattice kMC](#2)\n",
    "\n",
    "\n",
    "- [3. Zacros - Graph Theoretical kMC Software](#3)\n",
    "\n",
    "\n",
    "- [4. Zacros Wrapper](#4)\n",
    "\n",
    "\n",
    "- [5. CO Oxidation Example](#5)\n",
    "    \n",
    "    - [5.1. Energetics](#51)\n",
    "    \n",
    "    - [5.2. Lattice](#52)\n",
    "    \n",
    "    - [5.3. Mechanism](#53)\n",
    "    \n",
    "    - [5.4. Simulation](#54)\n",
    "    \n",
    "    - [5.5. State](#55)\n",
    "\n",
    "\n",
    "- [6. Results](#6)\n",
    "\n",
    "    - [6.1. Surface Species Over Time](#61)\n",
    "    \n",
    "    - [6.2. Gas Species Over Time](#62)\n",
    "  \n",
    "    - [6.3. Elementary Step Frequencies](#63)\n",
    "    \n",
    "    - [6.4. Lattice](#64)\n",
    "    \n",
    "    - [6.5. Lattice Frames (Snapshots)](#65)"
   ]
  },
  {
   "cell_type": "markdown",
   "metadata": {},
   "source": [
    "# 1. KMC vs MKM<a name=\"1\"></a>\n",
    "\n",
    "\n",
    "| Methods       | Kinetic Monte Carlo (KMC)  | Micro-Kinetic Modeling (MKM) |\n",
    "| ------------- |:-------------:| -----:|\n",
    "| Complex Chemistries    |  Y |  Y |\n",
    "| Ab-initio kinetic constants |  Y    |   Y|\n",
    "| Surface inhomogeneity |   Y  |    N |\n",
    "| Accurate lateral interactions |   Y |   N  |\n",
    "| Discrete event time prediction |   Y    |  N   |\n",
    "| Computationally inexpensive |  N  |  Y  |\n",
    "\n",
    "\n",
    "Comparing to molecular dynamics (MD), kMC focuses on rare events (barrier crossing)\n",
    "![rarevents](input_graphics/rarevents.png)\n",
    "\n",
    "\n"
   ]
  },
  {
   "cell_type": "markdown",
   "metadata": {},
   "source": [
    "# 2. Lattice kMC Overview<a name=\"2\"></a>\n",
    "\n",
    "![structures](input_graphics/structures.png)\n",
    " \n",
    "Suitable for systems with Multiple facets, nanoparticles, clusters, multifunctional materials\n",
    "\n",
    " - Stochastic formulation \n",
    " \n",
    " - Resolves surface inhomogeneity\n",
    " \n",
    " - Captures time-scales of individual events"
   ]
  },
  {
   "cell_type": "markdown",
   "metadata": {},
   "source": [
    "# 3. Zacros - Graph Theoretical kMC Software<a name=\"3\"></a>\n",
    " - Program created for Lattice Monte Carlo\n",
    " \n",
    " - Inputs:\n",
    "     - Energetics – Cluster-Expansion Hamiltonian [[4]](https://aip.scitation.org/doi/abs/10.1063/1.4840395) to describe lateral interaction\n",
    "     - Lattice – Unit cell, iterations of unit cell, and interactions between lattice sites\n",
    "     - Mechanisms – Kinetics of elementary steps (reactions and phase transitions)\n",
    "     - Simulation – Initial conditions (temperature and pressure), present species, run time\n",
    "     - State – Initial locations of molecules on lattice\n",
    " \n",
    " - Outputs:\n",
    "     - General – Inputs to simulation, time and iterations\n",
    "     - History – Provides records of KMC steps by time\n",
    "     - Lattice – State of each site on lattice\n",
    "     - Process Statistics – Provides records of KMC steps by event\n",
    "     - Species Number – Species populations over time\n",
    " \n",
    " - Flow chart:\n",
    " ![flowchart](input_graphics/flowchart.png)"
   ]
  },
  {
   "cell_type": "markdown",
   "metadata": {},
   "source": [
    "# 4. Zacros Wrapper<a name=\"4\"></a>\n",
    "\n",
    "Includes additional features:\n",
    "\n",
    "- Run KMC simulations with parallel processing\n",
    "- Visualize and process output files \n",
    "- Rate constant rescaling for stiff systems to accelerate simulations\n",
    "- Sensivity analysis using the likelihood ratio method\n",
    "\n",
    "The details can be found on GitHub and in ref[[5]](https://aip.scitation.org/doi/abs/10.1063/1.4998926)"
   ]
  },
  {
   "cell_type": "markdown",
   "metadata": {},
   "source": [
    "# 5. CO Oxidation Example<a name=\"5\"></a>\n",
    "Simulate reactions between lattice O, gas phase CO to produce CO2 on a Pd(111) surface (ref [[6]](https://pubs.acs.org/doi/abs/10.1021/cs500377j))\n",
    "     \n",
    "- Use 190K and 320K to compare effects of temperature on reaction rates and surface coverages\n",
    "\n",
    "We use Zacros to run these simulations and Zacros Wrapper to analyze the output. The following inputs were given:"
   ]
  },
  {
   "cell_type": "markdown",
   "metadata": {},
   "source": [
    "## 5.1 Energetics<a name=\"51\"></a>\n",
    "\n",
    "#### O Lattice Configurations ![O Lattice Configurations](input_graphics/O_configs.png)\n",
    "\n",
    "#### CO Lattice Configurations ![CO Lattice Configurations](input_graphics/CO_configs.png)\n",
    "\n",
    "#### O and CO Lattice Configurations ![O and CO Lattice Configurations](input_graphics/O_CO_configs.png)"
   ]
  },
  {
   "cell_type": "markdown",
   "metadata": {},
   "source": [
    "## 5.2 Lattice<a name=\"52\"></a>\n",
    "2 sites in a unit cell: FCC and HCP <br>\n",
    "Periodic cell pattern – 48 by 48 (paper used 96 by 96) <br>\n",
    "Lattice Interactions: Only half of neighbor cells (north, east, northeast, southeast) counted to avoid repetition\n",
    "![Lattice Interactions](input_graphics/Lattice_interactions.png)"
   ]
  },
  {
   "cell_type": "markdown",
   "metadata": {},
   "source": [
    "## 5.3 Mechanism<a name=\"53\"></a>\n",
    "Elementary Steps:<br>\n",
    ">CO adsorption on fcc:  $CO(g) + *fcc \\leftrightarrow CO*fcc $<br>\n",
    "CO adsorption on hcp $CO(g) + *hcp \\leftrightarrow CO*hcp $<br>\n",
    "CO* diffusion $CO*fcc \\leftrightarrow CO*hcp $ <br>\n",
    "O* diffusion $CO*fcc \\leftrightarrow O*hcp $ <br>\n",
    "CO oxidation on fcc $CO*fcc + O*fcc \\leftrightarrow CO_{2} (g) $ <br>\n",
    "CO oxidation on hcp $CO*hcp+ O*hcp \\leftrightarrow CO_{2} (g) $\n"
   ]
  },
  {
   "cell_type": "markdown",
   "metadata": {},
   "source": [
    "#### Kinetic parameters at 320K\n",
    "![320K Mech](input_graphics/mech_320.png)"
   ]
  },
  {
   "cell_type": "markdown",
   "metadata": {},
   "source": [
    "#### Kinetic parameters at 190K\n",
    "![190K mech](input_graphics/mech_190.png)"
   ]
  },
  {
   "cell_type": "markdown",
   "metadata": {},
   "source": [
    "## 5.4 Simulation<a name=\"54\"></a>\n",
    "Surface – Pd(111) <br>\n",
    "Gas species: CO, CO2<br>\n",
    "Surface Species: O*, CO*<br>\n",
    "\n",
    "#### 320K:\n",
    "Data Collected:<br>\n",
    ">Snapshots: on t = 5s<br>\n",
    "Process and Species: on t = 0.5s<br>\n",
    "Run time:<br>\n",
    "Infinite steps<br>\n",
    "500s simulation time<br>\n",
    "86400s (24 hours) wall time<br>\n",
    "\n",
    "#### 190K\n",
    "Data collected:<br>\n",
    ">Snapshots: on t = 600s<br>\n",
    "Process and Species: on t = 60s<br>\n",
    "Run time:<br>\n",
    "Infinite steps<br>\n",
    "60000s simulation time<br>\n",
    "86400s (24 hours) wall time"
   ]
  },
  {
   "cell_type": "markdown",
   "metadata": {},
   "source": [
    "## 5.5 State<a name=\"55\"></a>\n",
    "Initial Coverage: 25% of lattice sites filled with O*\n",
    ">Every 4th site contains O*"
   ]
  },
  {
   "cell_type": "markdown",
   "metadata": {},
   "source": [
    "# 6. Results<a name=\"6\"></a>\n",
    "Some data, such as post-run statistics, is easy to understand as provided.\n",
    "#### 320K\n",
    "Events: 1,504,531 <br>\n",
    "Frequency: 3009 events per simulated second <br>\n",
    "Clock Time: 72,022s (20 hours) <br>\n",
    "Events per clock hour: 75203 <br>\n",
    "#### 190K\n",
    "Events: 1,128,541 <br>\n",
    "Frequency: 18.8 events per simulated second <br>\n",
    "Clock Time: 59359s (16.5 hours) <br>\n",
    "Events per clock hour: 68443"
   ]
  },
  {
   "cell_type": "markdown",
   "metadata": {},
   "source": [
    "In other cases, these results are much easier to read when converted into graphics using Zacros Wrapper."
   ]
  },
  {
   "cell_type": "code",
   "execution_count": 1,
   "metadata": {},
   "outputs": [],
   "source": [
    "import os\n",
    "import sys\n",
    "\n",
    "# Use the correct path to import zacros wrapper\n",
    "HomePath = os.path.expanduser('~')\n",
    "sys.path.append(os.path.join(HomePath, 'Documents', 'GitHub', 'Zacros-Wrapper'))\n",
    "\n",
    "import zacros_wrapper as zw\n",
    "\n",
    "''' ------------ User input section ------------ '''\n",
    "RunPath190 = os.path.join(os.getcwd(),'190K')\n",
    "RunPath320 = os.path.join(os.getcwd(),'320K')\n",
    "\n",
    "''' -------------------------------------------- '''\n",
    "\n",
    "''' Set up data '''\n",
    "run_190 = zw.kmc_traj()\n",
    "run_320 = zw.kmc_traj()\n",
    "run_190.Path = RunPath190\n",
    "run_320.Path = RunPath320\n",
    "run_190.ReadAllOutput(build_lattice = True)\n",
    "run_320.ReadAllOutput(build_lattice = True)"
   ]
  },
  {
   "cell_type": "markdown",
   "metadata": {},
   "source": [
    "## 6.1 Surface Species Over Time<a name=\"61\"></a>"
   ]
  },
  {
   "cell_type": "code",
   "execution_count": 2,
   "metadata": {},
   "outputs": [
    {
     "name": "stdout",
     "output_type": "stream",
     "text": [
      "320K\n"
     ]
    },
    {
     "data": {
      "image/png": "[encoded data removed]",
      "text/plain": [
       "<Figure size 432x288 with 1 Axes>"
      ]
     },
     "metadata": {
      "needs_background": "light"
     },
     "output_type": "display_data"
    },
    {
     "name": "stdout",
     "output_type": "stream",
     "text": [
      "190K\n"
     ]
    },
    {
     "data": {
      "image/png": "[encoded data removed]",
      "text/plain": [
       "<Figure size 432x288 with 1 Axes>"
      ]
     },
     "metadata": {
      "needs_background": "light"
     },
     "output_type": "display_data"
    }
   ],
   "source": [
    "n_Pd = 48 * 48        # number of Pd atoms for normalization\n",
    "print('320K')\n",
    "run_320.PlotSurfSpecVsTime(site_norm = n_Pd, savefig = False, incl_total = True)\n",
    "print('190K')\n",
    "run_190.PlotSurfSpecVsTime(site_norm = n_Pd, savefig = False, incl_total = True)"
   ]
  },
  {
   "cell_type": "markdown",
   "metadata": {},
   "source": [
    "In both examples, the coverage of O decreases over time, while more CO is deposited. This occurs much faster at a higher temperature, along with the end lattice having fewer species on it."
   ]
  },
  {
   "cell_type": "markdown",
   "metadata": {},
   "source": [
    "Our results are very similar to those from the paper:\n",
    "![paper surf](Input_graphics/paper_surfspec.png)"
   ]
  },
  {
   "cell_type": "markdown",
   "metadata": {},
   "source": [
    "## 6.2 Gas Species Over Time<a name=\"62\"></a>"
   ]
  },
  {
   "cell_type": "code",
   "execution_count": 3,
   "metadata": {},
   "outputs": [
    {
     "name": "stdout",
     "output_type": "stream",
     "text": [
      "320K\n"
     ]
    },
    {
     "data": {
      "image/png": "[encoded data removed]",
      "text/plain": [
       "<Figure size 432x288 with 1 Axes>"
      ]
     },
     "metadata": {
      "needs_background": "light"
     },
     "output_type": "display_data"
    },
    {
     "name": "stdout",
     "output_type": "stream",
     "text": [
      "190K\n"
     ]
    },
    {
     "data": {
      "image/png": "[encoded data removed]",
      "text/plain": [
       "<Figure size 432x288 with 1 Axes>"
      ]
     },
     "metadata": {
      "needs_background": "light"
     },
     "output_type": "display_data"
    }
   ],
   "source": [
    "# Plots total counts of gas species\n",
    "print('320K')\n",
    "run_320.PlotGasSpecVsTime(savefig = False)                           \n",
    "print('190K')\n",
    "run_190.PlotGasSpecVsTime(savefig = False)"
   ]
  },
  {
   "cell_type": "markdown",
   "metadata": {},
   "source": [
    "In both cases, CO is adsorbed by the lattice and CO2 is released as it forms. Both temperatures produce similar amounts of CO2, but more CO is adsorbed at lower temperatures."
   ]
  },
  {
   "cell_type": "markdown",
   "metadata": {},
   "source": [
    "## 6.3 Elementary Step Frequencies<a name=\"63\"></a>"
   ]
  },
  {
   "cell_type": "code",
   "execution_count": 4,
   "metadata": {},
   "outputs": [
    {
     "name": "stdout",
     "output_type": "stream",
     "text": [
      "320K\n"
     ]
    },
    {
     "data": {
      "image/png": "[encoded data removed]",
      "text/plain": [
       "<Figure size 432x288 with 1 Axes>"
      ]
     },
     "metadata": {
      "needs_background": "light"
     },
     "output_type": "display_data"
    },
    {
     "name": "stdout",
     "output_type": "stream",
     "text": [
      "190K\n"
     ]
    },
    {
     "data": {
      "image/png": "[encoded data removed]",
      "text/plain": [
       "<Figure size 432x288 with 1 Axes>"
      ]
     },
     "metadata": {
      "needs_background": "light"
     },
     "output_type": "display_data"
    }
   ],
   "source": [
    "# Plots elementary step frequencies\n",
    "print('320K')\n",
    "run_320.PlotElemStepFreqs(site_norm = n_Pd, time_norm = True, savefig = False)   \n",
    "print('190K')\n",
    "run_190.PlotElemStepFreqs(site_norm = n_Pd, time_norm = True, savefig = False)"
   ]
  },
  {
   "cell_type": "markdown",
   "metadata": {},
   "source": [
    "These plots display the frequency of each elementary step described in the energetics input.<br>\n",
    "Within each temperature, the most frequent step at 320K is movement between the FCC and HCP sites, while the most frequent step at 190K is the adsorption and desorption of CO the lattice sites. Overall, the reaction occurs significantly quicker at a higher temperature."
   ]
  },
  {
   "cell_type": "markdown",
   "metadata": {},
   "source": [
    "We can again compare our results to those from the paper to show their similarities:\n",
    "![paper freq](Input_graphics/paper_frequency.png)"
   ]
  },
  {
   "cell_type": "markdown",
   "metadata": {},
   "source": [
    "## 6.4 Lattice<a name=\"64\"></a>"
   ]
  },
  {
   "cell_type": "code",
   "execution_count": 5,
   "metadata": {},
   "outputs": [
    {
     "data": {
      "image/png": "[encoded data removed]",
      "text/plain": [
       "<Figure size 432x288 with 1 Axes>"
      ]
     },
     "metadata": {
      "needs_background": "light"
     },
     "output_type": "display_data"
    }
   ],
   "source": [
    "run_190.PlotLattice(savefig = False)    # Plots a picture of the bare lattice\n",
    "#run_320.PlotLattice()"
   ]
  },
  {
   "cell_type": "markdown",
   "metadata": {},
   "source": [
    "Here, the empty lattice, which is the same at both temperatures, is displayed."
   ]
  },
  {
   "cell_type": "markdown",
   "metadata": {},
   "source": [
    "## 6.5 Lattice Frames (Snapshots)<a name=\"65\"></a>"
   ]
  },
  {
   "cell_type": "code",
   "execution_count": 6,
   "metadata": {},
   "outputs": [
    {
     "name": "stdout",
     "output_type": "stream",
     "text": [
      "101.0 total snapshots\n",
      "Draw frame number 1\n",
      "Draw frame number 2\n",
      "Draw frame number 3\n",
      "Draw frame number 4\n",
      "Draw frame number 5\n",
      "Draw frame number 6\n",
      "Draw frame number 7\n",
      "Draw frame number 8\n",
      "Draw frame number 9\n",
      "Draw frame number 10\n",
      "Draw frame number 11\n",
      "Draw frame number 12\n",
      "Draw frame number 13\n",
      "Draw frame number 14\n",
      "Draw frame number 15\n",
      "Draw frame number 16\n",
      "Draw frame number 17\n",
      "Draw frame number 18\n",
      "Draw frame number 19\n",
      "Draw frame number 20\n",
      "Draw frame number 21\n",
      "Draw frame number 22\n",
      "Draw frame number 23\n",
      "Draw frame number 24\n",
      "Draw frame number 25\n",
      "Draw frame number 26\n",
      "Draw frame number 27\n",
      "Draw frame number 28\n",
      "Draw frame number 29\n",
      "Draw frame number 30\n",
      "Draw frame number 31\n",
      "Draw frame number 32\n",
      "Draw frame number 33\n",
      "Draw frame number 34\n",
      "Draw frame number 35\n",
      "Draw frame number 36\n",
      "Draw frame number 37\n",
      "Draw frame number 38\n",
      "Draw frame number 39\n",
      "Draw frame number 40\n",
      "Draw frame number 41\n",
      "Draw frame number 42\n",
      "Draw frame number 43\n",
      "Draw frame number 44\n",
      "Draw frame number 45\n",
      "Draw frame number 46\n",
      "Draw frame number 47\n",
      "Draw frame number 48\n",
      "Draw frame number 49\n",
      "Draw frame number 50\n",
      "Draw frame number 51\n",
      "Draw frame number 52\n",
      "Draw frame number 53\n",
      "Draw frame number 54\n",
      "Draw frame number 55\n",
      "Draw frame number 56\n",
      "Draw frame number 57\n",
      "Draw frame number 58\n",
      "Draw frame number 59\n",
      "Draw frame number 60\n",
      "Draw frame number 61\n",
      "Draw frame number 62\n",
      "Draw frame number 63\n",
      "Draw frame number 64\n",
      "Draw frame number 65\n",
      "Draw frame number 66\n",
      "Draw frame number 67\n",
      "Draw frame number 68\n",
      "Draw frame number 69\n",
      "Draw frame number 70\n",
      "Draw frame number 71\n",
      "Draw frame number 72\n",
      "Draw frame number 73\n",
      "Draw frame number 74\n",
      "Draw frame number 75\n",
      "Draw frame number 76\n",
      "Draw frame number 77\n",
      "Draw frame number 78\n",
      "Draw frame number 79\n",
      "Draw frame number 80\n",
      "Draw frame number 81\n",
      "Draw frame number 82\n",
      "Draw frame number 83\n",
      "Draw frame number 84\n",
      "Draw frame number 85\n",
      "Draw frame number 86\n",
      "Draw frame number 87\n",
      "Draw frame number 88\n",
      "Draw frame number 89\n",
      "Draw frame number 90\n",
      "Draw frame number 91\n",
      "Draw frame number 92\n",
      "Draw frame number 93\n",
      "Draw frame number 94\n",
      "Draw frame number 95\n",
      "Draw frame number 96\n",
      "Draw frame number 97\n",
      "Draw frame number 98\n",
      "Draw frame number 99\n",
      "Draw frame number 100\n",
      "Draw frame number 101\n",
      "101.0 total snapshots\n",
      "Draw frame number 1\n",
      "Draw frame number 2\n",
      "Draw frame number 3\n",
      "Draw frame number 4\n",
      "Draw frame number 5\n",
      "Draw frame number 6\n",
      "Draw frame number 7\n",
      "Draw frame number 8\n",
      "Draw frame number 9\n",
      "Draw frame number 10\n",
      "Draw frame number 11\n",
      "Draw frame number 12\n",
      "Draw frame number 13\n",
      "Draw frame number 14\n",
      "Draw frame number 15\n",
      "Draw frame number 16\n",
      "Draw frame number 17\n",
      "Draw frame number 18\n",
      "Draw frame number 19\n",
      "Draw frame number 20\n",
      "Draw frame number 21\n",
      "Draw frame number 22\n",
      "Draw frame number 23\n",
      "Draw frame number 24\n",
      "Draw frame number 25\n",
      "Draw frame number 26\n",
      "Draw frame number 27\n",
      "Draw frame number 28\n",
      "Draw frame number 29\n",
      "Draw frame number 30\n",
      "Draw frame number 31\n",
      "Draw frame number 32\n",
      "Draw frame number 33\n",
      "Draw frame number 34\n",
      "Draw frame number 35\n",
      "Draw frame number 36\n",
      "Draw frame number 37\n",
      "Draw frame number 38\n",
      "Draw frame number 39\n",
      "Draw frame number 40\n",
      "Draw frame number 41\n",
      "Draw frame number 42\n",
      "Draw frame number 43\n",
      "Draw frame number 44\n",
      "Draw frame number 45\n",
      "Draw frame number 46\n",
      "Draw frame number 47\n",
      "Draw frame number 48\n",
      "Draw frame number 49\n",
      "Draw frame number 50\n",
      "Draw frame number 51\n",
      "Draw frame number 52\n",
      "Draw frame number 53\n",
      "Draw frame number 54\n",
      "Draw frame number 55\n",
      "Draw frame number 56\n",
      "Draw frame number 57\n",
      "Draw frame number 58\n",
      "Draw frame number 59\n",
      "Draw frame number 60\n",
      "Draw frame number 61\n",
      "Draw frame number 62\n",
      "Draw frame number 63\n",
      "Draw frame number 64\n",
      "Draw frame number 65\n",
      "Draw frame number 66\n",
      "Draw frame number 67\n",
      "Draw frame number 68\n",
      "Draw frame number 69\n",
      "Draw frame number 70\n",
      "Draw frame number 71\n",
      "Draw frame number 72\n",
      "Draw frame number 73\n",
      "Draw frame number 74\n",
      "Draw frame number 75\n",
      "Draw frame number 76\n",
      "Draw frame number 77\n",
      "Draw frame number 78\n",
      "Draw frame number 79\n",
      "Draw frame number 80\n",
      "Draw frame number 81\n",
      "Draw frame number 82\n",
      "Draw frame number 83\n",
      "Draw frame number 84\n",
      "Draw frame number 85\n",
      "Draw frame number 86\n",
      "Draw frame number 87\n",
      "Draw frame number 88\n",
      "Draw frame number 89\n",
      "Draw frame number 90\n",
      "Draw frame number 91\n",
      "Draw frame number 92\n",
      "Draw frame number 93\n",
      "Draw frame number 94\n",
      "Draw frame number 95\n",
      "Draw frame number 96\n",
      "Draw frame number 97\n",
      "Draw frame number 98\n",
      "Draw frame number 99\n",
      "Draw frame number 100\n",
      "Draw frame number 101\n"
     ]
    }
   ],
   "source": [
    "# creates a subfolder and makes images of each snapshot\n",
    "run_320.LatticeMovie(savefig = True)                     \n",
    "run_190.LatticeMovie(savefig = True)"
   ]
  },
  {
   "cell_type": "markdown",
   "metadata": {},
   "source": [
    "Images of the lattice are produced at every interval of the snapshot time indicated in the simulation input. For example, these are the lattice snapshots after 1/10 of the interval. The time interval was chosen to show the lattices at a time with both O and CO on the surface.\n",
    "#### 320K t=50s\n",
    "![320 snap](320K/lattice_frames/Snapshot_11.png)\n",
    "#### 190K t=6000s\n",
    "![190 snap](190K/lattice_frames/Snapshot_11.png)"
   ]
  },
  {
   "cell_type": "markdown",
   "metadata": {},
   "source": [
    "To make the overall process more visible, the snapshots can be converted into a gif.\n",
    "#### 320K\n",
    "![320 gif](320K/lattice_change.gif)\n",
    "#### 190K\n",
    "![190 gif](190K/lattice_change.gif)"
   ]
  }
 ],
 "metadata": {
  "kernelspec": {
   "display_name": "Python 3",
   "language": "python",
   "name": "python3"
  },
  "language_info": {
   "codemirror_mode": {
    "name": "ipython",
    "version": 3
   },
   "file_extension": ".py",
   "mimetype": "text/x-python",
   "name": "python",
   "nbconvert_exporter": "python",
   "pygments_lexer": "ipython3",
   "version": "3.6.8"
  }
 },
 "nbformat": 4,
 "nbformat_minor": 2
}
